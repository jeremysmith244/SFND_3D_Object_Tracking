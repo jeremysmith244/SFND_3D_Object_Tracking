{
 "cells": [
  {
   "cell_type": "code",
   "execution_count": 1,
   "metadata": {},
   "outputs": [
    {
     "name": "stderr",
     "output_type": "stream",
     "text": [
      "C:\\Users\\jerem\\AppData\\Local\\Continuum\\anaconda3\\lib\\importlib\\_bootstrap.py:219: RuntimeWarning: numpy.ufunc size changed, may indicate binary incompatibility. Expected 192 from C header, got 216 from PyObject\n",
      "  return f(*args, **kwds)\n"
     ]
    }
   ],
   "source": [
    "import numpy as np\n",
    "import pandas as pd\n",
    "import matplotlib.pyplot as plt"
   ]
  },
  {
   "cell_type": "code",
   "execution_count": 2,
   "metadata": {},
   "outputs": [
    {
     "name": "stdout",
     "output_type": "stream",
     "text": [
      "1.png\n",
      "10.png\n",
      "11.png\n",
      "12.png\n",
      "13.png\n",
      "14.png\n",
      "15.png\n",
      "16.png\n",
      "17.png\n",
      "2.png\n",
      "3.png\n",
      "4.png\n",
      "5.png\n",
      "6.png\n",
      "7.png\n",
      "8.png\n",
      "9.png\n",
      "akaze_akaze\n",
      "akaze_brief\n",
      "akaze_brisk\n",
      "akaze_freak\n",
      "akaze_orb\n",
      "akze_sift\n",
      "brisk_brief\n",
      "brisk_brisk\n",
      "brisk_freak\n",
      "brisk_orb\n",
      "brisk_sift\n",
      "fast_brief\n",
      "fast_brisk\n",
      "fast_freak\n",
      "fast_orb\n",
      "fast_sift\n",
      "harris_brief\n",
      "harris_brisk\n",
      "harris_freak\n",
      "harris_orb\n",
      "harris_sift\n",
      "orb_brief\n",
      "orb_brisk\n",
      "orb_freak\n",
      "orb_orb\n",
      "orb_sift\n",
      "shi_brief\n",
      "shi_brisk\n",
      "shi_freak\n",
      "shi_orb\n",
      "shi_sift\n",
      "sift_brief\n",
      "sift_brisk\n",
      "sift_freak\n",
      "sift_orb\n",
      "sift_sift\n",
      "Untitled.ipynb\n"
     ]
    }
   ],
   "source": [
    "!ls"
   ]
  },
  {
   "cell_type": "code",
   "execution_count": 13,
   "metadata": {},
   "outputs": [],
   "source": [
    "import os\n",
    "import re\n",
    "\n",
    "files = os.listdir()\n",
    "data_files = []\n",
    "\n",
    "for file in files:\n",
    "    if not len(file.split('.')) > 1:\n",
    "        data_files.append(file)"
   ]
  },
  {
   "cell_type": "code",
   "execution_count": 25,
   "metadata": {},
   "outputs": [],
   "source": [
    "data = []\n",
    "\n",
    "with open(data_files[1], 'r') as f:\n",
    "    line = f.readline()\n",
    "    cnt = 1\n",
    "    values =[]\n",
    "    while line:\n",
    "        match = re.search(r'TTC Lidar: ([\\d.]+)', line)\n",
    "        match2 = re.search(r'TTC Camera: ([\\d.]+)', line)\n",
    "        if match:\n",
    "            values.append(match.group(1))\n",
    "        if match2:\n",
    "            values.append(match2.group(1))\n",
    "            \n",
    "        if len(values) == 2:\n",
    "            data.append(values)\n",
    "            values = []\n",
    "            \n",
    "        line = f.readline()\n",
    "        cnt += 1"
   ]
  },
  {
   "cell_type": "code",
   "execution_count": 26,
   "metadata": {},
   "outputs": [
    {
     "data": {
      "text/plain": [
       "[['12.9722', '9.48477'],\n",
       " ['12.264', '8.13167'],\n",
       " ['13.9161', '10.9777'],\n",
       " ['7.11572', '188.974'],\n",
       " ['16.2511', '13.5787'],\n",
       " ['12.4213', '14.6447'],\n",
       " ['34.3404', '11.0537'],\n",
       " ['9.34376', '17.5689'],\n",
       " ['18.1318', '14.4271'],\n",
       " ['18.0318', '7.08145'],\n",
       " ['3.83244', '11.5032'],\n",
       " ['10.8537', '10.4551'],\n",
       " ['9.22307', '12.9098'],\n",
       " ['10.9678', '10.3174'],\n",
       " ['8.09422', '12.2635'],\n",
       " ['3.17535', '9.86448'],\n",
       " ['9.99424', '8.10511'],\n",
       " ['8.30978', '9.91809']]"
      ]
     },
     "execution_count": 26,
     "metadata": {},
     "output_type": "execute_result"
    }
   ],
   "source": [
    "data"
   ]
  },
  {
   "cell_type": "code",
   "execution_count": 93,
   "metadata": {},
   "outputs": [],
   "source": [
    "def load_file(path):\n",
    "\n",
    "    data = []\n",
    "\n",
    "    with open(path, 'r') as f:\n",
    "        line = f.readline()\n",
    "        name = line.split('\\n')[0]\n",
    "        cnt = 1\n",
    "        values =[]\n",
    "        while line:\n",
    "            match = re.search(r'TTC Lidar: ([\\d.]+)', line)\n",
    "            match2 = re.search(r'TTC Camera: ([\\d.]+)', line)\n",
    "            if match:\n",
    "                values.append(match.group(1))\n",
    "            if match2:\n",
    "                values.append(match2.group(1))\n",
    "\n",
    "            if len(values) == 2:\n",
    "                data.append(values)\n",
    "                values = []\n",
    "\n",
    "            line = f.readline()\n",
    "            cnt += 1\n",
    "            \n",
    "    return name, pd.DataFrame(data=data, columns=['TTC Lidar', 'TTC Camera']).apply(pd.to_numeric)"
   ]
  },
  {
   "cell_type": "code",
   "execution_count": 94,
   "metadata": {},
   "outputs": [
    {
     "name": "stdout",
     "output_type": "stream",
     "text": [
      "FAST AKAZE\n"
     ]
    },
    {
     "data": {
      "text/html": [
       "<div>\n",
       "<style scoped>\n",
       "    .dataframe tbody tr th:only-of-type {\n",
       "        vertical-align: middle;\n",
       "    }\n",
       "\n",
       "    .dataframe tbody tr th {\n",
       "        vertical-align: top;\n",
       "    }\n",
       "\n",
       "    .dataframe thead th {\n",
       "        text-align: right;\n",
       "    }\n",
       "</style>\n",
       "<table border=\"1\" class=\"dataframe\">\n",
       "  <thead>\n",
       "    <tr style=\"text-align: right;\">\n",
       "      <th></th>\n",
       "      <th>TTC Lidar</th>\n",
       "      <th>TTC Camera</th>\n",
       "    </tr>\n",
       "  </thead>\n",
       "  <tbody>\n",
       "    <tr>\n",
       "      <td>0</td>\n",
       "      <td>12.97220</td>\n",
       "      <td>11.66070</td>\n",
       "    </tr>\n",
       "    <tr>\n",
       "      <td>1</td>\n",
       "      <td>12.26400</td>\n",
       "      <td>14.69630</td>\n",
       "    </tr>\n",
       "    <tr>\n",
       "      <td>2</td>\n",
       "      <td>13.91610</td>\n",
       "      <td>12.24970</td>\n",
       "    </tr>\n",
       "    <tr>\n",
       "      <td>3</td>\n",
       "      <td>7.11572</td>\n",
       "      <td>14.13840</td>\n",
       "    </tr>\n",
       "    <tr>\n",
       "      <td>4</td>\n",
       "      <td>16.25110</td>\n",
       "      <td>16.60020</td>\n",
       "    </tr>\n",
       "    <tr>\n",
       "      <td>5</td>\n",
       "      <td>12.42130</td>\n",
       "      <td>14.37270</td>\n",
       "    </tr>\n",
       "    <tr>\n",
       "      <td>6</td>\n",
       "      <td>34.34040</td>\n",
       "      <td>14.69680</td>\n",
       "    </tr>\n",
       "    <tr>\n",
       "      <td>7</td>\n",
       "      <td>9.34376</td>\n",
       "      <td>13.19800</td>\n",
       "    </tr>\n",
       "    <tr>\n",
       "      <td>8</td>\n",
       "      <td>18.13180</td>\n",
       "      <td>14.36790</td>\n",
       "    </tr>\n",
       "    <tr>\n",
       "      <td>9</td>\n",
       "      <td>18.03180</td>\n",
       "      <td>11.62130</td>\n",
       "    </tr>\n",
       "    <tr>\n",
       "      <td>10</td>\n",
       "      <td>3.83244</td>\n",
       "      <td>12.17590</td>\n",
       "    </tr>\n",
       "    <tr>\n",
       "      <td>11</td>\n",
       "      <td>10.85370</td>\n",
       "      <td>9.15903</td>\n",
       "    </tr>\n",
       "    <tr>\n",
       "      <td>12</td>\n",
       "      <td>9.22307</td>\n",
       "      <td>11.70300</td>\n",
       "    </tr>\n",
       "    <tr>\n",
       "      <td>13</td>\n",
       "      <td>10.96780</td>\n",
       "      <td>10.64570</td>\n",
       "    </tr>\n",
       "    <tr>\n",
       "      <td>14</td>\n",
       "      <td>8.09422</td>\n",
       "      <td>11.61420</td>\n",
       "    </tr>\n",
       "    <tr>\n",
       "      <td>15</td>\n",
       "      <td>3.17535</td>\n",
       "      <td>9.08944</td>\n",
       "    </tr>\n",
       "    <tr>\n",
       "      <td>16</td>\n",
       "      <td>9.99424</td>\n",
       "      <td>8.84944</td>\n",
       "    </tr>\n",
       "    <tr>\n",
       "      <td>17</td>\n",
       "      <td>8.30978</td>\n",
       "      <td>9.20867</td>\n",
       "    </tr>\n",
       "  </tbody>\n",
       "</table>\n",
       "</div>"
      ],
      "text/plain": [
       "    TTC Lidar  TTC Camera\n",
       "0    12.97220    11.66070\n",
       "1    12.26400    14.69630\n",
       "2    13.91610    12.24970\n",
       "3     7.11572    14.13840\n",
       "4    16.25110    16.60020\n",
       "5    12.42130    14.37270\n",
       "6    34.34040    14.69680\n",
       "7     9.34376    13.19800\n",
       "8    18.13180    14.36790\n",
       "9    18.03180    11.62130\n",
       "10    3.83244    12.17590\n",
       "11   10.85370     9.15903\n",
       "12    9.22307    11.70300\n",
       "13   10.96780    10.64570\n",
       "14    8.09422    11.61420\n",
       "15    3.17535     9.08944\n",
       "16    9.99424     8.84944\n",
       "17    8.30978     9.20867"
      ]
     },
     "execution_count": 94,
     "metadata": {},
     "output_type": "execute_result"
    }
   ],
   "source": [
    "name, df = load_file(data_files[0])\n",
    "print(name)\n",
    "df"
   ]
  },
  {
   "cell_type": "code",
   "execution_count": 95,
   "metadata": {},
   "outputs": [
    {
     "data": {
      "image/png": "[encoded data removed]",
      "text/plain": [
       "<Figure size 432x288 with 1 Axes>"
      ]
     },
     "metadata": {
      "needs_background": "light"
     },
     "output_type": "display_data"
    }
   ],
   "source": [
    "from sklearn.linear_model import LinearRegression\n",
    "\n",
    "model = LinearRegression().fit((df.index.values*0.1).reshape(-1,1), df['TTC Lidar'].values)\n",
    "pred = model.predict((df.index.values*0.1).reshape(-1,1))\n",
    "\n",
    "model2 = LinearRegression().fit((df.index.values*0.1).reshape(-1,1), df['TTC Camera'].values)\n",
    "pred2 = model.predict((df.index.values*0.1).reshape(-1,1))\n",
    "\n",
    "plt.plot(df.index*0.1, df['TTC Lidar'], 'bo');\n",
    "plt.plot(df.index*0.1, pred, 'b-');\n",
    "plt.plot(df.index*0.1, df['TTC Camera'], 'go');\n",
    "plt.plot(df.index*0.1, pred2, 'g-');"
   ]
  },
  {
   "cell_type": "code",
   "execution_count": 129,
   "metadata": {},
   "outputs": [],
   "source": [
    "def plot_file(path, save=False):\n",
    "    \n",
    "    name, df = load_file(path)\n",
    "    \n",
    "    model = LinearRegression().fit((df.index.values*0.1).reshape(-1,1), df['TTC Lidar'].values)\n",
    "    pred = model.predict((df.index.values*0.1).reshape(-1,1))\n",
    "\n",
    "    model2 = LinearRegression().fit((df.index.values*0.1).reshape(-1,1), df['TTC Camera'].values)\n",
    "    pred2 = model2.predict((df.index.values*0.1).reshape(-1,1))\n",
    "\n",
    "    plt.plot(df.index*0.1, df['TTC Lidar'], 'bo');\n",
    "    plt.plot(df.index*0.1, pred, 'b--');\n",
    "    plt.plot(df.index*0.1, df['TTC Camera'], 'go');\n",
    "    plt.plot(df.index*0.1, pred2, 'g--');\n",
    "    plt.title(name);\n",
    "    plt.legend(['TTC Lidar: 3$\\sigma$ {}'.format(np.round(df['TTC Lidar'].std()*3, 2)), '', 'TTC Camera: 3$\\sigma$ {}'.format(np.round(df['TTC Camera'].std()*3, 2)), ''])\n",
    "    \n",
    "    if save:\n",
    "        plt.savefig(name);\n",
    "        plt.close();"
   ]
  },
  {
   "cell_type": "code",
   "execution_count": 130,
   "metadata": {},
   "outputs": [
    {
     "data": {
      "image/png": "[encoded data removed]",
      "text/plain": [
       "<Figure size 432x288 with 1 Axes>"
      ]
     },
     "metadata": {
      "needs_background": "light"
     },
     "output_type": "display_data"
    }
   ],
   "source": [
    "plot_file(data_files[0])"
   ]
  },
  {
   "cell_type": "code",
   "execution_count": 131,
   "metadata": {},
   "outputs": [
    {
     "data": {
      "image/png": "[encoded data removed]",
      "text/plain": [
       "<Figure size 432x288 with 1 Axes>"
      ]
     },
     "metadata": {
      "needs_background": "light"
     },
     "output_type": "display_data"
    }
   ],
   "source": [
    "plot_file(data_files[1])"
   ]
  },
  {
   "cell_type": "code",
   "execution_count": 132,
   "metadata": {},
   "outputs": [
    {
     "data": {
      "image/png": "[encoded data removed]",
      "text/plain": [
       "<Figure size 432x288 with 1 Axes>"
      ]
     },
     "metadata": {
      "needs_background": "light"
     },
     "output_type": "display_data"
    }
   ],
   "source": [
    "plot_file(data_files[2])"
   ]
  },
  {
   "cell_type": "code",
   "execution_count": 133,
   "metadata": {},
   "outputs": [],
   "source": [
    "for file in data_files:\n",
    "    plot_file(file, True)"
   ]
  },
  {
   "cell_type": "code",
   "execution_count": null,
   "metadata": {},
   "outputs": [],
   "source": []
  }
 ],
 "metadata": {
  "kernelspec": {
   "display_name": "Python 3",
   "language": "python",
   "name": "python3"
  },
  "language_info": {
   "codemirror_mode": {
    "name": "ipython",
    "version": 3
   },
   "file_extension": ".py",
   "mimetype": "text/x-python",
   "name": "python",
   "nbconvert_exporter": "python",
   "pygments_lexer": "ipython3",
   "version": "3.7.4"
  }
 },
 "nbformat": 4,
 "nbformat_minor": 2
}
